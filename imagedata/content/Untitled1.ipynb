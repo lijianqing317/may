{
 "cells": [
  {
   "cell_type": "code",
   "execution_count": 2,
   "metadata": {},
   "outputs": [
    {
     "name": "stderr",
     "output_type": "stream",
     "text": [
      "Using TensorFlow backend.\n"
     ]
    },
    {
     "name": "stdout",
     "output_type": "stream",
     "text": [
      "/home/lijq/IdeaProjects/tr/imagedata/train-images.idx3-ubyte\n",
      "/home/lijq/IdeaProjects/tr/imagedata/train-labels.idx1-ubyte\n",
      "/home/lijq/IdeaProjects/tr/imagedata/t10k-images.idx3-ubyte\n",
      "/home/lijq/IdeaProjects/tr/imagedata/t10k-labels.idx1-ubyte\n",
      "60000 60000 10000 10000\n"
     ]
    }
   ],
   "source": [
    "import tensorflow as tf\n",
    "import keras\n",
    "import numpy as np\n",
    "import struct\n",
    "from keras.models import  Sequential,Model\n",
    "from keras.layers import Dense,Activation\n",
    "from keras.utils import np_utils\n",
    "from keras.models import load_model\n",
    "from keras.optimizers import RMSprop\n",
    "image_path = '/home/lijq/IdeaProjects/tr/imagedata/'\n",
    "image_train_data ='train-images.idx3-ubyte'\n",
    "image_train_label = 'train-labels.idx1-ubyte'\n",
    "image_test_data = 't10k-images.idx3-ubyte'\n",
    "image_test_label = 't10k-labels.idx1-ubyte'\n",
    "image_list =[image_train_data,image_train_label,image_test_data,image_test_label]\n",
    "image_data_list =[]\n",
    "for i in range(len(image_list)):\n",
    "    print image_path+image_list[i]\n",
    "    image_data_list.append(open('%s%s'%(image_path,image_list[i]),'rb').read())\n",
    "def getimagedata(buffer):\n",
    "    index = 0\n",
    "    magic, nums,nums_rows,nums_cloumns = struct.unpack_from('>IIII',buffer,index)\n",
    "    index +=struct.calcsize('>IIII')\n",
    "    image_tra = []\n",
    "    for im in range(0,nums):\n",
    "        ims = struct.unpack_from('784B',buffer,index)\n",
    "        index +=struct.calcsize('784B')\n",
    "        ims = np.array(ims)\n",
    "        image_tra.append(ims)\n",
    "    image_tra = np.array(image_tra)\n",
    "    return image_tra\n",
    "def getlabeldata(buffer):\n",
    "    index = 0\n",
    "    label_list = []\n",
    "    magic, label_num = struct.unpack_from('>II', buffer, index)\n",
    "    index += struct.calcsize('>II')\n",
    "    for i in range(label_num):\n",
    "        label_item = int(struct.unpack_from('>B', buffer, index)[0])\n",
    "        label_list.append(label_item)\n",
    "        index += struct.calcsize('>B')\n",
    "    label_list = np.array(label_list)\n",
    "    return label_list\n",
    "train_image_data = getimagedata(image_data_list[0])\n",
    "train_image_label = getlabeldata(image_data_list[1])\n",
    "test_image_data = getimagedata(image_data_list[2])\n",
    "test_image_label = getlabeldata(image_data_list[3])\n",
    "print len(train_image_data),len(train_image_label),len(test_image_data),len(test_image_label)\n",
    "\n"
   ]
  },
  {
   "cell_type": "code",
   "execution_count": null,
   "metadata": {},
   "outputs": [],
   "source": [
    "def add_layer(inputs, in_size, out_size, activation_function=None):\n",
    "    Weights = tf.Variable(tf.random_normal([in_size, out_size]))\n",
    "    biases = tf.Variable(tf.zeros([1, out_size]) + 0.1)\n",
    "    Wx_plus_b = tf.matmul(inputs, Weights) + biases\n",
    "    if activation_function is None:\n",
    "        outputs = Wx_plus_b\n",
    "    else:\n",
    "        outputs = activation_function(Wx_plus_b)\n",
    "    return outputs"
   ]
  },
  {
   "cell_type": "code",
   "execution_count": null,
   "metadata": {},
   "outputs": [],
   "source": [
    "# define placeholder for inputs to network\n",
    "xs = tf.placeholder(tf.float32, [None, 784]) # 28x28\n",
    "ys = tf.placeholder(tf.float32, [None, 10])"
   ]
  },
  {
   "cell_type": "code",
   "execution_count": null,
   "metadata": {},
   "outputs": [],
   "source": [
    "l1 = add_layer(xs, 784, 32, activation_function=tf.nn.relu)\n",
    "l2 = add_layer(l1, 32, 25, activation_function=tf.nn.relu)\n",
    "l3 = add_layer(l2, 25, 15, activation_function=tf.nn.relu)\n",
    "l4 = add_layer(l3, 15, 10, activation_function=tf.nn.softmax)"
   ]
  },
  {
   "cell_type": "code",
   "execution_count": null,
   "metadata": {},
   "outputs": [],
   "source": [
    "cross_entropy = tf.reduce_mean(-tf.reduce_sum(ys * tf.log(prediction),\n",
    "reduction_indices=[1])) # loss"
   ]
  },
  {
   "cell_type": "code",
   "execution_count": null,
   "metadata": {},
   "outputs": [],
   "source": [
    "train_step = tf.train.GradientDescentOptimizer(0.5).minimize(cross_entropy)\n",
    "sess = tf.Session()\n",
    "sess.run(tf.global_variables_initializer())"
   ]
  },
  {
   "cell_type": "code",
   "execution_count": null,
   "metadata": {},
   "outputs": [],
   "source": []
  },
  {
   "cell_type": "code",
   "execution_count": null,
   "metadata": {},
   "outputs": [],
   "source": [
    "batch_xs, batch_ys = mnist.train.next_batch(100)\n",
    "sess.run(train_step, feed_dict={xs: batch_xs, ys: batch_ys})"
   ]
  },
  {
   "cell_type": "code",
   "execution_count": null,
   "metadata": {},
   "outputs": [],
   "source": [
    "if i % 50 == 0:\n",
    "        print(compute_accuracy(\n",
    "            test_image_data, test_image_label))"
   ]
  }
 ],
 "metadata": {
  "kernelspec": {
   "display_name": "Python (Deep)",
   "language": "python",
   "name": "python-dp"
  },
  "language_info": {
   "codemirror_mode": {
    "name": "ipython",
    "version": 2
   },
   "file_extension": ".py",
   "mimetype": "text/x-python",
   "name": "python",
   "nbconvert_exporter": "python",
   "pygments_lexer": "ipython2",
   "version": "2.7.13"
  }
 },
 "nbformat": 4,
 "nbformat_minor": 2
}
