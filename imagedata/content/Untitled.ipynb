{
 "cells": [
  {
   "cell_type": "code",
   "execution_count": null,
   "metadata": {},
   "outputs": [],
   "source": [
    "import keras\n",
    "import numpy as np\n",
    "import struct\n",
    "from keras.models import  Sequential,Model\n",
    "from keras.layers import Dense,Activation\n",
    "from keras.utils import np_utils\n",
    "from keras.models import load_model\n",
    "from keras.optimizers import RMSprop\n",
    "image_path = '/home/lijq/IdeaProjects/tr/imagedata/'\n",
    "image_train_data ='train-images.idx3-ubyte'\n",
    "image_train_label = 'train-labels.idx1-ubyte'\n",
    "image_test_data = 't10k-images.idx3-ubyte'\n",
    "image_test_label = 't10k-labels.idx1-ubyte'\n",
    "image_list =[image_train_data,image_train_label,image_test_data,image_test_label]\n",
    "image_data_list =[]\n",
    "for i in range(len(image_list)):\n",
    "    print image_path+image_list[i]\n",
    "    image_data_list.append(open('%s%s'%(image_path,image_list[i]),'rb').read())\n",
    "def getimagedata(buffer):\n",
    "    index = 0\n",
    "    magic, nums,nums_rows,nums_cloumns = struct.unpack_from('>IIII',buffer,index)\n",
    "    index +=struct.calcsize('>IIII')\n",
    "    image_tra = []\n",
    "    for im in range(0,nums):\n",
    "        ims = struct.unpack_from('784B',buffer,index)\n",
    "        index +=struct.calcsize('784B')\n",
    "        ims = np.array(ims)\n",
    "        image_tra.append(ims)\n",
    "    image_tra = np.array(image_tra)\n",
    "    return image_tra\n",
    "def getlabeldata(buffer):\n",
    "    index = 0\n",
    "    label_list = []\n",
    "    magic, label_num = struct.unpack_from('>II', buffer, index)\n",
    "    index += struct.calcsize('>II')\n",
    "    for i in range(label_num):\n",
    "        label_item = int(struct.unpack_from('>B', buffer, index)[0])\n",
    "        label_list.append(label_item)\n",
    "        index += struct.calcsize('>B')\n",
    "    label_list = np.array(label_list)\n",
    "    return label_list\n",
    "train_image_data = getimagedata(image_data_list[0])\n",
    "train_image_label = getlabeldata(image_data_list[1])\n",
    "test_image_data = getimagedata(image_data_list[2])\n",
    "test_image_label = getlabeldata(image_data_list[3])\n",
    "print len(train_image_data),len(train_image_label),len(test_image_data),len(test_image_label)"
   ]
  },
  {
   "cell_type": "code",
   "execution_count": 96,
   "metadata": {},
   "outputs": [],
   "source": [
    "train_image_data= train_image_data.reshape(train_image_data.shape[0], -1) / 255.   # normalize\n",
    "test_image_data = test_image_data.reshape(test_image_data.shape[0], -1) / 255.   # normalize\n",
    "train_image_label = np_utils.to_categorical(train_image_label,num_classes=10)\n",
    "test_image_label = np_utils.to_categorical(test_image_label,num_classes=10)"
   ]
  },
  {
   "cell_type": "code",
   "execution_count": 97,
   "metadata": {},
   "outputs": [],
   "source": [
    "model = Sequential()\n",
    "model.add(Dense(32,input_dim = 784,activation='relu'))\n",
    "model.add(Dense(25,activation='relu'))\n",
    "model.add(Dense(15,activation='relu'))\n",
    "model.add(Dense(10,activation='softmax'))"
   ]
  },
  {
   "cell_type": "code",
   "execution_count": 98,
   "metadata": {},
   "outputs": [],
   "source": [
    "model.compile(loss='categorical_crossentropy',metrics=['accuracy'],optimizer='sgd')"
   ]
  },
  {
   "cell_type": "code",
   "execution_count": null,
   "metadata": {},
   "outputs": [],
   "source": [
    "model.fit(train_image_data,train_image_label,epochs=2,batch_size=32)"
   ]
  },
  {
   "cell_type": "code",
   "execution_count": null,
   "metadata": {},
   "outputs": [],
   "source": [
    "loss,accuracy = model.evaluate(test_image_data,test_image_label)\n",
    "print \" model  loss:\",loss,\"acc:\",accuracy"
   ]
  },
  {
   "cell_type": "code",
   "execution_count": 101,
   "metadata": {},
   "outputs": [],
   "source": [
    "model.save('./minist_model.h5')"
   ]
  },
  {
   "cell_type": "code",
   "execution_count": null,
   "metadata": {},
   "outputs": [],
   "source": [
    "model_reload = load_model('./minist_mode1.h5')\n",
    "\n",
    "loss,accuracy = model_reload.evaluate(test_image_data,test_image_label)\n",
    "\n",
    "print \" reloadmodel  loss:\",loss,\"acc:\",accuracy"
   ]
  },
  {
   "cell_type": "code",
   "execution_count": null,
   "metadata": {},
   "outputs": [],
   "source": [
    "import struct\n",
    "import matplotlib.pyplot as plt\n",
    "import numpy as np\n",
    "import PIL.Image as Im\n",
    "train_file = '/home/lijq/IdeaProjects/tr/imagedata/train-images.idx3-ubyte'\n",
    "train_images = open(train_file,'rb')\n",
    "buffers = train_images.read()\n",
    "index = 0\n",
    "magic, nums,nums_rows,nums_cloumns = struct.unpack_from('>IIII',buffers,index)\n",
    "index +=struct.calcsize('>IIII')\n",
    "for im in range(0,nums):\n",
    "    ims = struct.unpack_from('>784B',buffers,index)\n",
    "    index +=struct.calcsize('>784B')\n",
    "    print index,im\n",
    "    ims = np.array(ims,dtype='uint8')\n",
    "    ims = ims.reshape(28,28)\n",
    "    plt.imshow(ims,cmap = 'gray')\n",
    "    plt.show()\n",
    "    imag = Im.fromarray(ims.astype(np.uint8))\n",
    "    imag.save('./my_image.png','png')"
   ]
  },
  {
   "cell_type": "code",
   "execution_count": null,
   "metadata": {},
   "outputs": [],
   "source": []
  }
 ],
 "metadata": {
  "kernelspec": {
   "display_name": "Python (Deep)",
   "language": "python",
   "name": "python-dp"
  },
  "language_info": {
   "codemirror_mode": {
    "name": "ipython",
    "version": 2
   },
   "file_extension": ".py",
   "mimetype": "text/x-python",
   "name": "python",
   "nbconvert_exporter": "python",
   "pygments_lexer": "ipython2",
   "version": "2.7.13"
  }
 },
 "nbformat": 4,
 "nbformat_minor": 2
}
