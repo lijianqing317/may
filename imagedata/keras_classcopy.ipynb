{
 "cells": [
  {
   "cell_type": "code",
   "execution_count": 1,
   "metadata": {},
   "outputs": [
    {
     "name": "stderr",
     "output_type": "stream",
     "text": [
      "Using TensorFlow backend.\n"
     ]
    },
    {
     "name": "stdout",
     "output_type": "stream",
     "text": [
      "/home/lijq/IdeaProjects/tr/imagedata/train-images.idx3-ubyte\n",
      "/home/lijq/IdeaProjects/tr/imagedata/train-labels.idx1-ubyte\n",
      "/home/lijq/IdeaProjects/tr/imagedata/t10k-images.idx3-ubyte\n",
      "/home/lijq/IdeaProjects/tr/imagedata/t10k-labels.idx1-ubyte\n",
      "60000 60000 10000 10000\n"
     ]
    }
   ],
   "source": [
    "import keras\n",
    "import numpy as np\n",
    "import struct\n",
    "from keras.models import  Sequential,Model\n",
    "from keras.layers import Dense,Activation\n",
    "from keras.utils import np_utils\n",
    "from keras.models import load_model\n",
    "from keras.optimizers import RMSprop\n",
    "image_path = '/home/lijq/IdeaProjects/tr/imagedata/'\n",
    "image_train_data ='train-images.idx3-ubyte'\n",
    "image_train_label = 'train-labels.idx1-ubyte'\n",
    "image_test_data = 't10k-images.idx3-ubyte'\n",
    "image_test_label = 't10k-labels.idx1-ubyte'\n",
    "image_list =[image_train_data,image_train_label,image_test_data,image_test_label]\n",
    "image_data_list =[]\n",
    "for i in range(len(image_list)):\n",
    "    print image_path+image_list[i]\n",
    "    image_data_list.append(open('%s%s'%(image_path,image_list[i]),'rb').read())\n",
    "def getimagedata(buffer):\n",
    "    index = 0\n",
    "    magic, nums,nums_rows,nums_cloumns = struct.unpack_from('>IIII',buffer,index)\n",
    "    index +=struct.calcsize('>IIII')\n",
    "    image_tra = []\n",
    "    for im in range(0,nums):\n",
    "        ims = struct.unpack_from('784B',buffer,index)\n",
    "        index +=struct.calcsize('784B')\n",
    "        ims = np.array(ims)\n",
    "        image_tra.append(ims)\n",
    "    image_tra = np.array(image_tra)\n",
    "    return image_tra\n",
    "def getlabeldata(buffer):\n",
    "    index = 0\n",
    "    label_list = []\n",
    "    magic, label_num = struct.unpack_from('>II', buffer, index)\n",
    "    index += struct.calcsize('>II')\n",
    "    for i in range(label_num):\n",
    "        label_item = int(struct.unpack_from('>B', buffer, index)[0])\n",
    "        label_list.append(label_item)\n",
    "        index += struct.calcsize('>B')\n",
    "    label_list = np.array(label_list)\n",
    "    return label_list\n",
    "train_image_data = getimagedata(image_data_list[0])\n",
    "train_image_label = getlabeldata(image_data_list[1])\n",
    "test_image_data = getimagedata(image_data_list[2])\n",
    "test_image_label = getlabeldata(image_data_list[3])\n",
    "print len(train_image_data),len(train_image_label),len(test_image_data),len(test_image_label)"
   ]
  },
  {
   "cell_type": "code",
   "execution_count": 2,
   "metadata": {},
   "outputs": [],
   "source": [
    "train_image_data= train_image_data.reshape(train_image_data.shape[0], -1) / 255.   # normalize\n",
    "test_image_data = test_image_data.reshape(test_image_data.shape[0], -1) / 255.   # normalize\n",
    "train_image_label = np_utils.to_categorical(train_image_label,num_classes=10)\n",
    "test_image_label = np_utils.to_categorical(test_image_label,num_classes=10)"
   ]
  },
  {
   "cell_type": "code",
   "execution_count": null,
   "metadata": {},
   "outputs": [],
   "source": [
    "model = Sequential()\n",
    "model.add(Dense(32,input_dim = 784,activation='relu'))\n",
    "model.add(Dense(25,activation='relu'))\n",
    "model.add(Dense(15,activation='relu'))\n",
    "model.add(Dense(10,activation='softmax'))"
   ]
  },
  {
   "cell_type": "code",
   "execution_count": 4,
   "metadata": {},
   "outputs": [],
   "source": [
    "model.compile(loss='categorical_crossentropy',metrics=['accuracy'],optimizer='sgd')"
   ]
  },
  {
   "cell_type": "code",
   "execution_count": 5,
   "metadata": {},
   "outputs": [
    {
     "name": "stdout",
     "output_type": "stream",
     "text": [
      "Epoch 1/2\n",
      "60000/60000 [==============================] - 19s - loss: 1.0367 - acc: 0.6722    \n",
      "Epoch 2/2\n",
      "60000/60000 [==============================] - 18s - loss: 0.3811 - acc: 0.8888    \n"
     ]
    },
    {
     "data": {
      "text/plain": [
       "<keras.callbacks.History at 0x7f4f30665250>"
      ]
     },
     "execution_count": 5,
     "metadata": {},
     "output_type": "execute_result"
    }
   ],
   "source": [
    "model.fit(train_image_data,train_image_label,epochs=2,batch_size=32)"
   ]
  },
  {
   "cell_type": "code",
   "execution_count": 6,
   "metadata": {},
   "outputs": [
    {
     "name": "stdout",
     "output_type": "stream",
     "text": [
      " 9920/10000 [============================>.] - ETA: 0s model  loss: 0.31407926783 acc: 0.9078\n"
     ]
    }
   ],
   "source": [
    "loss,accuracy = model.evaluate(test_image_data,test_image_label)\n",
    "print \" model  loss:\",loss,\"acc:\",accuracy"
   ]
  },
  {
   "cell_type": "code",
   "execution_count": 9,
   "metadata": {},
   "outputs": [],
   "source": [
    "model.save('./minist_mode1.h5')"
   ]
  },
  {
   "cell_type": "code",
   "execution_count": 10,
   "metadata": {},
   "outputs": [
    {
     "name": "stdout",
     "output_type": "stream",
     "text": [
      " 9920/10000 [============================>.] - ETA: 0s reloadmodel  loss: 0.31407926783 acc: 0.9078\n"
     ]
    }
   ],
   "source": [
    "model_reload = load_model('./minist_mode1.h5')\n",
    "\n",
    "loss,accuracy = model_reload.evaluate(test_image_data,test_image_label)\n",
    "\n",
    "print \" reloadmodel  loss:\",loss,\"acc:\",accuracy"
   ]
  },
  {
   "cell_type": "code",
   "execution_count": 12,
   "metadata": {},
   "outputs": [
    {
     "name": "stdout",
     "output_type": "stream",
     "text": [
      "800 0\n"
     ]
    },
    {
     "data": {
      "image/png": "[encoded data removed]",
      "text/plain": [
       "<matplotlib.figure.Figure at 0x7f4dd8145790>"
      ]
     },
     "metadata": {},
     "output_type": "display_data"
    },
    {
     "name": "stdout",
     "output_type": "stream",
     "text": [
      "1584 1\n"
     ]
    },
    {
     "data": {
      "image/png": "[encoded data removed]",
      "text/plain": [
       "<matplotlib.figure.Figure at 0x7f4dd81edc90>"
      ]
     },
     "metadata": {},
     "output_type": "display_data"
    },
    {
     "name": "stdout",
     "output_type": "stream",
     "text": [
      "2368 2\n"
     ]
    },
    {
     "data": {
      "image/png": "[encoded data removed]",
      "text/plain": [
       "<matplotlib.figure.Figure at 0x7f4d90477ed0>"
      ]
     },
     "metadata": {},
     "output_type": "display_data"
    },
    {
     "name": "stdout",
     "output_type": "stream",
     "text": [
      "3152 3\n"
     ]
    },
    {
     "data": {
      "image/png": "[encoded data removed]",
      "text/plain": [
       "<matplotlib.figure.Figure at 0x7f4d93218250>"
      ]
     },
     "metadata": {},
     "output_type": "display_data"
    },
    {
     "name": "stdout",
     "output_type": "stream",
     "text": [
      "3936 4\n"
     ]
    },
    {
     "data": {
      "image/png": "[encoded data removed]",
      "text/plain": [
       "<matplotlib.figure.Figure at 0x7f4d931b4290>"
      ]
     },
     "metadata": {},
     "output_type": "display_data"
    }
   ],
   "source": [
    "import struct\n",
    "import matplotlib.pyplot as plt\n",
    "import numpy as np\n",
    "import PIL.Image as Im\n",
    "train_file = '/home/lijq/IdeaProjects/tr/imagedata/train-images.idx3-ubyte'\n",
    "train_images = open(train_file,'rb')\n",
    "buffers = train_images.read()\n",
    "index = 0\n",
    "magic, nums,nums_rows,nums_cloumns = struct.unpack_from('>IIII',buffers,index)\n",
    "index +=struct.calcsize('>IIII')\n",
    "for im in range(0,5):\n",
    "    ims = struct.unpack_from('>784B',buffers,index)\n",
    "    index +=struct.calcsize('>784B')\n",
    "    print index,im\n",
    "    ims = np.array(ims,dtype='uint8')\n",
    "    ims = ims.reshape(28,28)\n",
    "    plt.imshow(ims,cmap = 'gray')\n",
    "    plt.show()\n",
    "    imag = Im.fromarray(ims.astype(np.uint8))\n",
    "    imag.save('./my_image.png','png')"
   ]
  },
  {
   "cell_type": "code",
   "execution_count": null,
   "metadata": {},
   "outputs": [],
   "source": [
    ""
   ]
  }
 ],
 "metadata": {
  "kernelspec": {
   "display_name": "Python (Deep)",
   "language": "python",
   "name": "python-dp"
  },
  "language_info": {
   "codemirror_mode": {
    "name": "ipython",
    "version": 2.0
   },
   "file_extension": ".py",
   "mimetype": "text/x-python",
   "name": "python",
   "nbconvert_exporter": "python",
   "pygments_lexer": "ipython2",
   "version": "2.7.13"
  }
 },
 "nbformat": 4,
 "nbformat_minor": 0
}